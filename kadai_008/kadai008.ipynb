{
  "nbformat": 4,
  "nbformat_minor": 0,
  "metadata": {
    "colab": {
      "provenance": []
    },
    "kernelspec": {
      "name": "python3",
      "display_name": "Python 3"
    },
    "language_info": {
      "name": "python"
    }
  },
  "cells": [
    {
      "cell_type": "code",
      "execution_count": 3,
      "metadata": {
        "colab": {
          "base_uri": "https://localhost:8080/"
        },
        "id": "BWFKRcjj_zGI",
        "outputId": "429d10d0-6c1c-4cd6-f81d-932238d439de"
      },
      "outputs": [
        {
          "output_type": "stream",
          "name": "stdout",
          "text": [
            "0.9629629629629629\n"
          ]
        },
        {
          "output_type": "execute_result",
          "data": {
            "text/plain": [
              "0.9629629629629629"
            ]
          },
          "metadata": {},
          "execution_count": 3
        }
      ],
      "source": [
        "from sklearn.datasets import load_wine\n",
        "import pandas as pd\n",
        "from sklearn.model_selection import train_test_split\n",
        "from sklearn.ensemble import RandomForestClassifier\n",
        "from sklearn.metrics import accuracy_score\n",
        "\n",
        "# サンプルデータの取得\n",
        "dataset = load_wine()\n",
        "\n",
        "# サンプルデータの分割\n",
        "X = dataset.data\n",
        "y = dataset.target\n",
        "X_train, X_test, y_train,y_test = train_test_split(X, y, test_size=0.3, random_state=5)\n",
        "\n",
        "# 予測モデルのインスタンス化\n",
        "model = RandomForestClassifier(random_state=3)\n",
        "\n",
        "# モデルの学習\n",
        "model.fit(X_train, y_train)\n",
        "\n",
        "# モデルの評価\n",
        "y_pred = model.predict(X_test)\n",
        "\n",
        "print(accuracy_score(y_test, y_pred))\n",
        "model.score(X_test, y_test)"
      ]
    },
    {
      "cell_type": "code",
      "source": [],
      "metadata": {
        "id": "opdjBPl0HlFr"
      },
      "execution_count": null,
      "outputs": []
    }
  ]
}