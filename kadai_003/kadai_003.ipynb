{
  "nbformat": 4,
  "nbformat_minor": 0,
  "metadata": {
    "colab": {
      "provenance": []
    },
    "kernelspec": {
      "name": "python3",
      "display_name": "Python 3"
    },
    "language_info": {
      "name": "python"
    }
  },
  "cells": [
    {
      "cell_type": "code",
      "execution_count": 4,
      "metadata": {
        "id": "QOZ7JwiaVvKF",
        "colab": {
          "base_uri": "https://localhost:8080/"
        },
        "outputId": "b333734c-4541-41ae-d97f-93bcacee0de0"
      },
      "outputs": [
        {
          "output_type": "stream",
          "name": "stdout",
          "text": [
            "47\n"
          ]
        }
      ],
      "source": [
        "import numpy as np\n",
        "a = np.array([[0,1],[2,3],[4,5]])\n",
        "b = np.array([[0,1,2,3],[4,5,6,7]])\n",
        "c = np.dot(a,b)\n",
        "print(np.max(c))"
      ]
    },
    {
      "cell_type": "code",
      "source": [],
      "metadata": {
        "id": "Uvn75AjUX9-c"
      },
      "execution_count": null,
      "outputs": []
    }
  ]
}